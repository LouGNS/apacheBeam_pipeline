{
 "cells": [
  {
   "cell_type": "markdown",
   "metadata": {},
   "source": [
    "# Teste de engenharia de dados Banco ABC\n",
    "Este notebook apresenta um exemplo de como transformar seus dados armazenados \"in-memory\" em tabelas no SQLite, permitindo a manipulação através de querys SQL. Caso ainda tenha dúvidas, você pode utilizar tutoriais [como esse](https://deepnote.com/blog/query-pandas-dataframes-with-sql) para ver mais detalhes. Esse snippet foi testado utilizando o Python 3.10.\n",
    "\n",
    "O primeiro passo é importar as bibliotecas necessárias. Caso você não as tenha instalada na máquina, será necessário realizar isso antes."
   ]
  },
  {
   "cell_type": "code",
   "execution_count": 3,
   "metadata": {},
   "outputs": [],
   "source": [
    "import pandas as pd\n",
    "import sqlalchemy\n",
    "%load_ext sql"
   ]
  },
  {
   "cell_type": "markdown",
   "metadata": {},
   "source": [
    "Feito isso, você deve fazer a leitura das bases de dados para a memória. O exemplo abaixo é um pseudocódigo."
   ]
  },
  {
   "cell_type": "code",
   "execution_count": 4,
   "metadata": {},
   "outputs": [],
   "source": [
    "clients = pd.read_csv('data/clientes.csv')"
   ]
  },
  {
   "cell_type": "markdown",
   "metadata": {},
   "source": [
    "Depois, você irá inicializar a SQLite através do código abaixo:"
   ]
  },
  {
   "cell_type": "code",
   "execution_count": 5,
   "metadata": {},
   "outputs": [],
   "source": [
    "engine = sqlalchemy.create_engine('sqlite:///mydatabase.db')\n",
    "%sql sqlite:///mydatabase.db"
   ]
  },
  {
   "cell_type": "markdown",
   "metadata": {},
   "source": [
    "Agora, basta transformar seus dados em tabelas efetivamente. É possível que você se depare com o seguinte erro: **ValueError: Unsigned 64 bit integer datatype is not supported**. Isso ocorre por que o SQLite não oferece suporte para o tipo **uint64**. Nesse caso, você deve tentar converter as colunas do seu dataset que estão em uint64 para string. As colunas que recebem esse tipo geralmente são *numeroCartao* e *numeroConta*."
   ]
  },
  {
   "cell_type": "code",
   "execution_count": 6,
   "metadata": {},
   "outputs": [
    {
     "data": {
      "text/plain": [
       "250000"
      ]
     },
     "execution_count": 6,
     "metadata": {},
     "output_type": "execute_result"
    }
   ],
   "source": [
    "clients.to_sql('clientes', con=engine, if_exists='replace')"
   ]
  },
  {
   "cell_type": "markdown",
   "metadata": {},
   "source": [
    "Finalmente, você deve ser capaz de executar querys utilizando a seguinte syntax:"
   ]
  },
  {
   "cell_type": "code",
   "execution_count": 7,
   "metadata": {},
   "outputs": [
    {
     "name": "stdout",
     "output_type": "stream",
     "text": [
      " * sqlite:///mydatabase.db\n",
      "Done.\n"
     ]
    }
   ],
   "source": [
    "query = %sql \"\"\" SELECT * \\\n",
    "                 FROM clientes limit 10\"\"\""
   ]
  },
  {
   "cell_type": "code",
   "execution_count": 8,
   "metadata": {},
   "outputs": [
    {
     "name": "stdout",
     "output_type": "stream",
     "text": [
      "+-------+-------------+------------------------+----------------+-----------------------------+------------------+--------------+\n",
      "| index |     cpf     |          nome          | dataNascimento |            email            |       city       | dataCadastro |\n",
      "+-------+-------------+------------------------+----------------+-----------------------------+------------------+--------------+\n",
      "|   0   | 18046079841 |     Beatriz Porto      |   1988-01-13   |     ocorreia@cardoso.org    |     Ferreira     |  2012-06-05  |\n",
      "|   1   | 81465703213 |  Luiz Miguel Carvalho  |   1996-10-02   |    theoviana@hotmail.com    |   Dias Grande    |  2011-11-27  |\n",
      "|   2   | 58695342240 |      Calebe Sales      |   2003-09-28   |   luiz-otavioda-cruz@da.br  |   Costa Grande   |  2020-01-23  |\n",
      "|   3   | 78857172116 |  Srta. Bárbara Duarte  |   1968-11-19   | silveiraisadora@martins.com | Ferreira de Melo |  2021-07-09  |\n",
      "|   4   | 80101594884 |  Francisco Nascimento  |   1988-08-08   |      bda-luz@gmail.com      |       Dias       |  2015-10-25  |\n",
      "|   5   | 12215420147 |      Laura da Luz      |   1991-03-17   |      yasmin37@gmail.com     |   Cunha Grande   |  2023-01-23  |\n",
      "|   6   | 35010549464 |  Ana Carolina Freitas  |   1955-10-04   |  danielda-mota@yahoo.com.br | Porto das Flores |  2019-06-03  |\n",
      "|   7   | 70452017421 | Maria Fernanda Pereira |   1972-06-10   |    lunafogaca@hotmail.com   |      Aragão      |  2008-09-17  |\n",
      "|   8   | 31815402513 |     Bryan da Rocha     |   2003-05-09   |      ssales@uol.com.br      |      Nunes       |  2015-11-27  |\n",
      "|   9   | 14897402109 |     Renan Silveira     |   2001-03-29   |       nicole06@da.org       |      Mendes      |  2011-09-03  |\n",
      "+-------+-------------+------------------------+----------------+-----------------------------+------------------+--------------+\n"
     ]
    }
   ],
   "source": [
    "print(query)"
   ]
  },
  {
   "cell_type": "markdown",
   "metadata": {},
   "source": [
    "## Primeira fase - Query 1\n",
    "Extraia o nome, CPF e e-mail de todos os clientes que tenham ao menos R$ 400,00 reais de compras aprovadas nos últimos dois meses. Além disso, esses clientes precisam estar com a conta ativa e com o cartão desbloqueado, a menos que o código de bloqueio do cartão seja igual a “M”. "
   ]
  },
  {
   "cell_type": "code",
   "execution_count": 9,
   "metadata": {},
   "outputs": [],
   "source": [
    "# Tentar diferentes codificações\n",
    "try:\n",
    "    transactions = pd.read_csv('data/transacoes.csv', encoding='utf-8')\n",
    "except UnicodeDecodeError:\n",
    "    transactions = pd.read_csv('data/transacoes.csv', encoding='latin1')"
   ]
  },
  {
   "cell_type": "code",
   "execution_count": 10,
   "metadata": {},
   "outputs": [],
   "source": [
    "# Carregar os DataFrames com o formato correto\n",
    "accounts = pd.read_csv('data/contas.csv', delimiter=';')\n",
    "cards = pd.read_excel('data/cartoes.xlsx')  # Ler o arquivo Excel\n",
    "#transactions = pd.read_csv('data/transacoes.csv', delimiter=';')"
   ]
  },
  {
   "cell_type": "code",
   "execution_count": 11,
   "metadata": {},
   "outputs": [],
   "source": [
    "# Converter colunas uint64 para int64\n",
    "accounts['numeroConta'] = accounts['numeroConta'].astype('int64')\n",
    "cards['numeroCartao'] = cards['numeroCartao'].astype('int64')\n",
    "transactions['numeroCartao'] = transactions['numeroCartao'].astype('int64')"
   ]
  },
  {
   "cell_type": "code",
   "execution_count": 12,
   "metadata": {},
   "outputs": [
    {
     "name": "stdout",
     "output_type": "stream",
     "text": [
      "Tipos de dados em accounts: codMatricula    object\n",
      "cpfCliente       int64\n",
      "numeroConta      int64\n",
      "agencia          int64\n",
      "dataAbertura    object\n",
      "ativo            int64\n",
      "saldo            int64\n",
      "dtype: object\n",
      "Tipos de dados em cards: codMatricula                 object\n",
      "numeroCartao                  int64\n",
      "cartaoBloqueado                bool\n",
      "codBloqueio                  object\n",
      "nomeImprCart                 object\n",
      "digitoVerificador             int64\n",
      "dataEmisCartao       datetime64[ns]\n",
      "limiteTotal                 float64\n",
      "limiteRestante              float64\n",
      "dtype: object\n",
      "Tipos de dados em transactions: numeroCartao      int64\n",
      "dataCompra       object\n",
      "aprovado          int64\n",
      "idLoja            int64\n",
      "qtdParcelas       int64\n",
      "valorCompra     float64\n",
      "nomeLoja         object\n",
      "dtype: object\n"
     ]
    }
   ],
   "source": [
    "# Verificar os tipos de dados das colunas\n",
    "print(\"Tipos de dados em accounts:\", accounts.dtypes)\n",
    "print(\"Tipos de dados em cards:\", cards.dtypes)\n",
    "print(\"Tipos de dados em transactions:\", transactions.dtypes)\n"
   ]
  },
  {
   "cell_type": "code",
   "execution_count": 13,
   "metadata": {},
   "outputs": [
    {
     "data": {
      "text/plain": [
       "1250000"
      ]
     },
     "execution_count": 13,
     "metadata": {},
     "output_type": "execute_result"
    }
   ],
   "source": [
    "# Inserir DataFrames no banco de dados\n",
    "accounts.to_sql('contas', con=engine, if_exists='replace', index=False)\n",
    "cards.to_sql('cartoes', con=engine, if_exists='replace', index=False)\n",
    "transactions.to_sql('transacoes', con=engine, if_exists='replace', index=False)"
   ]
  },
  {
   "cell_type": "code",
   "execution_count": 14,
   "metadata": {},
   "outputs": [
    {
     "name": "stdout",
     "output_type": "stream",
     "text": [
      " * sqlite:///mydatabase.db\n",
      "Done.\n",
      " * sqlite:///mydatabase.db\n",
      "Done.\n"
     ]
    }
   ],
   "source": [
    "# Obter a data mais recente de dataCompra\n",
    "query_data_recente = %sql SELECT MAX(dataCompra) AS dataRecente FROM transacoes;\n",
    "\n",
    "# Obter a data subtraída de dois meses\n",
    "query_data_subtrair_dois_meses = %sql SELECT DATE(MAX(dataCompra), '-2 months') AS dataMenosDoisMeses FROM transacoes;"
   ]
  },
  {
   "cell_type": "code",
   "execution_count": 15,
   "metadata": {},
   "outputs": [
    {
     "name": "stdout",
     "output_type": "stream",
     "text": [
      "A data de compra mais recente da base é: +-------------+\n",
      "| dataRecente |\n",
      "+-------------+\n",
      "|  2024-02-21 |\n",
      "+-------------+\n",
      "\n",
      "A data de compra de dois meses para trás é: +--------------------+\n",
      "| dataMenosDoisMeses |\n",
      "+--------------------+\n",
      "|     2023-12-21     |\n",
      "+--------------------+\n"
     ]
    }
   ],
   "source": [
    "print(f'A data de compra mais recente da base é: {query_data_recente}')\n",
    "print('')\n",
    "print(f'A data de compra de dois meses para trás é: {query_data_subtrair_dois_meses}')"
   ]
  },
  {
   "cell_type": "code",
   "execution_count": 16,
   "metadata": {},
   "outputs": [
    {
     "name": "stdout",
     "output_type": "stream",
     "text": [
      " * sqlite:///mydatabase.db\n",
      "Done.\n",
      "+--------------------+-------------+--------------------------+\n",
      "|        nome        |     cpf     |          email           |\n",
      "+--------------------+-------------+--------------------------+\n",
      "|    Agatha Gomes    | 47030856073 |  larissa95@yahoo.com.br  |\n",
      "| Agatha Nascimento  | 53686156562 | fogacaraquel@silveira.br |\n",
      "|    Agatha Nunes    | 36537807266 |     gmelo@freitas.br     |\n",
      "|  Agatha Oliveira   | 65631925523 |    yasmin76@barros.br    |\n",
      "|   Agatha Ribeiro   | 71612587231 |  matheus75@monteiro.org  |\n",
      "|    Alana Farias    | 49928102324 |   wmartins@aragao.com    |\n",
      "|   Alana Martins    | 92950456450 |   ybarros@hotmail.com    |\n",
      "|   Alana Monteiro   | 45154499126 |   catarina06@ig.com.br   |\n",
      "|    Alana Viana     | 87403196818 |   mariana74@uol.com.br   |\n",
      "| Alana da Conceição | 11433350236 |  cunhagiovanna@alves.br  |\n",
      "+--------------------+-------------+--------------------------+\n"
     ]
    }
   ],
   "source": [
    "query_1 = %sql SELECT clientes.nome, clientes.cpf, clientes.email FROM clientes JOIN contas ON clientes.cpf = contas.cpfCliente JOIN cartoes ON contas.codMatricula = cartoes.codMatricula JOIN transacoes ON cartoes.numeroCartao = transacoes.numeroCartao WHERE contas.ativo = 1 AND (cartoes.cartaoBloqueado = 0 OR cartoes.codBloqueio = 'M') AND transacoes.aprovado = 1 AND transacoes.dataCompra BETWEEN '2024-02-21' AND '2024-12-21' GROUP BY clientes.nome, clientes.cpf, clientes.email HAVING SUM(transacoes.valorCompra) >= 400 limit 10;\n",
    "print(query_1)"
   ]
  },
  {
   "cell_type": "code",
   "execution_count": 17,
   "metadata": {},
   "outputs": [
    {
     "name": "stdout",
     "output_type": "stream",
     "text": [
      " * sqlite:///mydatabase.db\n",
      "Done.\n",
      "+------------------------+-------------+-----------------------------+\n",
      "|          nome          |     cpf     |            email            |\n",
      "+------------------------+-------------+-----------------------------+\n",
      "|     Beatriz Porto      | 18046079841 |     ocorreia@cardoso.org    |\n",
      "|  Luiz Miguel Carvalho  | 81465703213 |    theoviana@hotmail.com    |\n",
      "|      Calebe Sales      | 58695342240 |   luiz-otavioda-cruz@da.br  |\n",
      "|  Srta. Bárbara Duarte  | 78857172116 | silveiraisadora@martins.com |\n",
      "|  Francisco Nascimento  | 80101594884 |      bda-luz@gmail.com      |\n",
      "|      Laura da Luz      | 12215420147 |      yasmin37@gmail.com     |\n",
      "|  Ana Carolina Freitas  | 35010549464 |  danielda-mota@yahoo.com.br |\n",
      "| Maria Fernanda Pereira | 70452017421 |    lunafogaca@hotmail.com   |\n",
      "|     Bryan da Rocha     | 31815402513 |      ssales@uol.com.br      |\n",
      "|     Renan Silveira     | 14897402109 |       nicole06@da.org       |\n",
      "+------------------------+-------------+-----------------------------+\n"
     ]
    }
   ],
   "source": [
    "#Testes de consulta realizados\n",
    "teste = %sql SELECT clientes.nome, clientes.cpf, clientes.email FROM clientes LIMIT 10\n",
    "print(teste)"
   ]
  },
  {
   "cell_type": "code",
   "execution_count": 18,
   "metadata": {},
   "outputs": [],
   "source": [
    "# Definindo a consulta SQL\n",
    "query_1 = \"\"\"\n",
    "SELECT clientes.nome, clientes.cpf, clientes.email \n",
    "FROM clientes \n",
    "JOIN contas ON clientes.cpf = contas.cpfCliente \n",
    "JOIN cartoes ON contas.codMatricula = cartoes.codMatricula \n",
    "JOIN transacoes ON cartoes.numeroCartao = transacoes.numeroCartao \n",
    "WHERE contas.ativo = 1 \n",
    "AND (cartoes.cartaoBloqueado = 0 OR cartoes.codBloqueio = 'M') \n",
    "AND transacoes.aprovado = 1 \n",
    "AND transacoes.dataCompra BETWEEN '2024-02-21' AND '2024-12-21' \n",
    "GROUP BY clientes.nome, clientes.cpf, clientes.email \n",
    "HAVING SUM(transacoes.valorCompra) >= 400;\n",
    "\"\"\""
   ]
  },
  {
   "cell_type": "code",
   "execution_count": 19,
   "metadata": {},
   "outputs": [],
   "source": [
    "# Executando a consulta e carregando o resultado em um DataFrame\n",
    "df1 = pd.read_sql(query_1, engine)\n",
    "\n",
    "# Slavando o DataFrame em um arquivo CSV\n",
    "df1.to_csv('output/resultado_query.csv', index=False)"
   ]
  },
  {
   "cell_type": "markdown",
   "metadata": {},
   "source": [
    "### Fase um query_2 - Ranking"
   ]
  },
  {
   "cell_type": "code",
   "execution_count": 24,
   "metadata": {},
   "outputs": [
    {
     "name": "stdout",
     "output_type": "stream",
     "text": [
      "                cpf          numeroConta         numeroCartao ranking\n",
      "0       18046079841  5100505060838687527  2097828104877643350        \n",
      "1       81465703213  7595295926917893421  3442201103375110717       A\n",
      "2       58695342240  1762048877978329900  4818239517605922667        \n",
      "3       78857172116  9117145463574074166  1626022023864896110        \n",
      "4       80101594884  4890295503896255487  1801738842007609011        \n",
      "...             ...                  ...                  ...     ...\n",
      "140446  27755193741  3684920847235535896  1573015684869023228        \n",
      "140447  65263158321  3070571305655218977  3373258549827659228        \n",
      "140448  97759347157  4029730621197334551  2356024123535096242        \n",
      "140449  72734262475  7647977361733954739  6938887299867480048        \n",
      "140450  47849459095  4429967981554532148  5316962919948107269        \n",
      "\n",
      "[140451 rows x 4 columns]\n"
     ]
    }
   ],
   "source": [
    "import pandas as pd\n",
    "from sqlalchemy import create_engine\n",
    "\n",
    "# Conexão com o banco de dados SQLite\n",
    "engine = create_engine('sqlite:///mydatabase.db')\n",
    "\n",
    "# Query ajustada\n",
    "query_ranking = \"\"\"\n",
    "WITH Compradores AS (\n",
    "    SELECT \n",
    "        c.cpf,\n",
    "        a.numeroConta,\n",
    "        t.numeroCartao,\n",
    "        AVG(tr.valorCompra) AS media_compras_ultimos_6_meses,\n",
    "        SUM(tr.valorCompra) / t.limiteTotal AS percentual_limite_utilizado\n",
    "    FROM clientes c\n",
    "    JOIN contas a ON c.cpf = a.cpfCliente\n",
    "    JOIN cartoes t ON a.codMatricula = t.codMatricula\n",
    "    JOIN transacoes tr ON t.numeroCartao = tr.numeroCartao\n",
    "    WHERE tr.dataCompra BETWEEN DATE('2024-02-21', '-6 months') AND '2024-02-21'\n",
    "      AND tr.aprovado = 1\n",
    "      AND tr.idLoja IN (6, 18, 24, 25)\n",
    "    GROUP BY c.cpf, a.numeroConta, t.numeroCartao\n",
    "    HAVING AVG(tr.valorCompra) >= 300\n",
    "       AND SUM(tr.valorCompra) / t.limiteTotal >= 0.70\n",
    "),\n",
    "Nao_Compradores AS (\n",
    "    SELECT \n",
    "        c.cpf,\n",
    "        a.numeroConta,\n",
    "        t.numeroCartao,\n",
    "        SUM(tr.valorCompra) / t.limiteTotal AS percentual_limite_utilizado,\n",
    "        a.saldo AS saldo_conta\n",
    "    FROM clientes c\n",
    "    JOIN contas a ON c.cpf = a.cpfCliente\n",
    "    JOIN cartoes t ON a.codMatricula = t.codMatricula\n",
    "    LEFT JOIN transacoes tr ON t.numeroCartao = tr.numeroCartao\n",
    "    WHERE a.ativo = 1\n",
    "      AND (t.cartaoBloqueado = 0 OR t.codBloqueio = 'M')\n",
    "    GROUP BY c.cpf, a.numeroConta, t.numeroCartao, a.saldo\n",
    "),\n",
    "Ranking_Compradores AS (\n",
    "    SELECT\n",
    "        cpf,\n",
    "        numeroConta,\n",
    "        numeroCartao,\n",
    "        'A' AS ranking\n",
    "    FROM Compradores\n",
    "),\n",
    "Ranking_Nao_Compradores AS (\n",
    "    SELECT\n",
    "        cpf,\n",
    "        numeroConta,\n",
    "        numeroCartao,\n",
    "        CASE \n",
    "            WHEN percentual_limite_utilizado BETWEEN 0.70 AND 0.80 AND saldo_conta > 10000 THEN 'B'\n",
    "            WHEN percentual_limite_utilizado BETWEEN 0.80 AND 0.90 AND saldo_conta > 15000 THEN 'C'\n",
    "            WHEN percentual_limite_utilizado BETWEEN 0.90 AND 0.95 AND saldo_conta > 20000 THEN 'D'\n",
    "            ELSE ''\n",
    "        END AS ranking\n",
    "    FROM Nao_Compradores\n",
    ")\n",
    "SELECT\n",
    "    c.cpf,\n",
    "    a.numeroConta,\n",
    "    t.numeroCartao,\n",
    "    COALESCE(rc.ranking, rnc.ranking, '') AS ranking\n",
    "FROM clientes c\n",
    "JOIN contas a ON c.cpf = a.cpfCliente\n",
    "JOIN cartoes t ON a.codMatricula = t.codMatricula\n",
    "LEFT JOIN Ranking_Compradores rc ON rc.cpf = c.cpf AND rc.numeroConta = a.numeroConta AND rc.numeroCartao = t.numeroCartao\n",
    "LEFT JOIN Ranking_Nao_Compradores rnc ON rnc.cpf = c.cpf AND rnc.numeroConta = a.numeroConta AND rnc.numeroCartao = t.numeroCartao\n",
    "WHERE a.ativo = 1\n",
    "AND (t.cartaoBloqueado = 0 OR t.codBloqueio = 'M')\n",
    "\"\"\"\n",
    "\n",
    "# Executar a query e carregar o resultado em um DataFrame\n",
    "df_ranking = pd.read_sql(query_ranking, engine)\n",
    "\n",
    "# Exibir o DataFrame com os resultados\n",
    "print(df_ranking)\n"
   ]
  },
  {
   "cell_type": "markdown",
   "metadata": {},
   "source": [
    "### Testando Conexão com o banco de dados"
   ]
  },
  {
   "cell_type": "code",
   "execution_count": 26,
   "metadata": {},
   "outputs": [
    {
     "name": "stdout",
     "output_type": "stream",
     "text": [
      "Conexão bem-sucedida com o banco de dados\n"
     ]
    }
   ],
   "source": [
    "#Teste de conexão\n",
    "from sqlalchemy import create_engine\n",
    "\n",
    "# Criar conexão com o banco de dados existente\n",
    "engine = create_engine('sqlite:///mydatabase.db')\n",
    "\n",
    "# Verificar se a conexão foi estabelecida\n",
    "try:\n",
    "    with engine.connect() as conn:\n",
    "        print(\"Conexão bem-sucedida com o banco de dados\")\n",
    "except Exception as e:\n",
    "    print(f\"Erro ao conectar com o banco de dados: {e}\")\n"
   ]
  },
  {
   "cell_type": "code",
   "execution_count": 27,
   "metadata": {},
   "outputs": [
    {
     "name": "stdout",
     "output_type": "stream",
     "text": [
      "   index          cpf                  nome dataNascimento  \\\n",
      "0      0  18046079841         Beatriz Porto     1988-01-13   \n",
      "1      1  81465703213  Luiz Miguel Carvalho     1996-10-02   \n",
      "2      2  58695342240          Calebe Sales     2003-09-28   \n",
      "3      3  78857172116  Srta. Bárbara Duarte     1968-11-19   \n",
      "4      4  80101594884  Francisco Nascimento     1988-08-08   \n",
      "\n",
      "                         email              city dataCadastro  \n",
      "0         ocorreia@cardoso.org          Ferreira   2012-06-05  \n",
      "1        theoviana@hotmail.com       Dias Grande   2011-11-27  \n",
      "2     luiz-otavioda-cruz@da.br      Costa Grande   2020-01-23  \n",
      "3  silveiraisadora@martins.com  Ferreira de Melo   2021-07-09  \n",
      "4            bda-luz@gmail.com              Dias   2015-10-25  \n",
      "                           codMatricula   cpfCliente          numeroConta  \\\n",
      "0  0617cde1-63d6-477a-9015-4a206f1f9d81  18046079841  5100505060838687527   \n",
      "1  7703a577-b7f3-4543-a952-7baa88537e4d  81465703213  7595295926917893421   \n",
      "2  39d4e63c-5f85-4f88-93cc-8b4377054278  58695342240  1762048877978329900   \n",
      "3  d9bfb6f5-5269-47d6-a31a-643172474e68  78857172116  9117145463574074166   \n",
      "4  7d842524-b46d-4567-99b3-85c9a1131ef9  80101594884  4890295503896255487   \n",
      "\n",
      "   agencia dataAbertura  ativo  saldo  \n",
      "0     4839   2015-11-16      1  11126  \n",
      "1     4405   2021-05-24      1  25517  \n",
      "2     7014   2018-10-08      1  18614  \n",
      "3     7896   2016-05-25      1  24901  \n",
      "4     2685   2008-08-14      1  10243  \n"
     ]
    }
   ],
   "source": [
    "# Verificar se há dados na tabela 'clientes'\n",
    "clientes = pd.read_sql(\"SELECT * FROM clientes LIMIT 5;\", engine)\n",
    "print(clientes)\n",
    "\n",
    "# Verificar se há dados na tabela 'contas'\n",
    "contas = pd.read_sql(\"SELECT * FROM contas LIMIT 5;\", engine)\n",
    "print(contas)\n"
   ]
  },
  {
   "cell_type": "code",
   "execution_count": 29,
   "metadata": {},
   "outputs": [
    {
     "name": "stdout",
     "output_type": "stream",
     "text": [
      "                cpf          numeroConta         numeroCartao ranking\n",
      "0       18046079841  5100505060838687527  2097828104877643350        \n",
      "1       81465703213  7595295926917893421  3442201103375110717       A\n",
      "2       58695342240  1762048877978329900  4818239517605922667        \n",
      "3       78857172116  9117145463574074166  1626022023864896110        \n",
      "4       80101594884  4890295503896255487  1801738842007609011        \n",
      "...             ...                  ...                  ...     ...\n",
      "140446  27755193741  3684920847235535896  1573015684869023228        \n",
      "140447  65263158321  3070571305655218977  3373258549827659228        \n",
      "140448  97759347157  4029730621197334551  2356024123535096242        \n",
      "140449  72734262475  7647977361733954739  6938887299867480048        \n",
      "140450  47849459095  4429967981554532148  5316962919948107269        \n",
      "\n",
      "[140451 rows x 4 columns]\n"
     ]
    }
   ],
   "source": [
    "# Executar a query de ranking\n",
    "result = pd.read_sql(query_ranking, engine)\n",
    "\n",
    "# Exibir o resultado\n",
    "print(result)"
   ]
  },
  {
   "cell_type": "code",
   "execution_count": 169,
   "metadata": {},
   "outputs": [],
   "source": [
    "# Exportar o DataFrame para o diretório 'output'\n",
    "result.to_csv('output/ranking_clientes.csv', index=False)"
   ]
  },
  {
   "cell_type": "markdown",
   "metadata": {},
   "source": [
    "Verificando data types das colunas para fazer transformação no ETL correta"
   ]
  },
  {
   "cell_type": "code",
   "execution_count": 33,
   "metadata": {},
   "outputs": [
    {
     "name": "stdout",
     "output_type": "stream",
     "text": [
      "nome     object\n",
      "cpf       int64\n",
      "email    object\n",
      "dtype: object\n"
     ]
    }
   ],
   "source": [
    "print(df1.dtypes)\n"
   ]
  },
  {
   "cell_type": "code",
   "execution_count": 34,
   "metadata": {},
   "outputs": [
    {
     "name": "stdout",
     "output_type": "stream",
     "text": [
      "cpf              int64\n",
      "numeroConta      int64\n",
      "numeroCartao     int64\n",
      "ranking         object\n",
      "dtype: object\n"
     ]
    }
   ],
   "source": [
    "print(result.dtypes)"
   ]
  },
  {
   "cell_type": "code",
   "execution_count": 43,
   "metadata": {},
   "outputs": [
    {
     "name": "stdout",
     "output_type": "stream",
     "text": [
      "                nome          cpf                     email  \\\n",
      "0       Agatha Gomes  47030856073    larissa95@yahoo.com.br   \n",
      "1  Agatha Nascimento  53686156562  fogacaraquel@silveira.br   \n",
      "2       Agatha Nunes  36537807266          gmelo@freitas.br   \n",
      "3    Agatha Oliveira  65631925523        yasmin76@barros.br   \n",
      "4     Agatha Ribeiro  71612587231    matheus75@monteiro.org   \n",
      "\n",
      "              DT_CARGA  \n",
      "0  2024-09-11 15:17:40  \n",
      "1  2024-09-11 15:17:40  \n",
      "2  2024-09-11 15:17:40  \n",
      "3  2024-09-11 15:17:40  \n",
      "4  2024-09-11 15:17:40  \n"
     ]
    }
   ],
   "source": [
    "# Lendo aqreuivo parquet 1.\n",
    "file_path = 'output/resultado_query.parquet-00000-of-00001.parquet'\n",
    "dfp1 = pd.read_parquet(file_path)\n",
    "print(dfp1.head())\n"
   ]
  },
  {
   "cell_type": "code",
   "execution_count": 44,
   "metadata": {},
   "outputs": [
    {
     "name": "stdout",
     "output_type": "stream",
     "text": [
      "           cpf          numeroConta         numeroCartao ranking  \\\n",
      "0  18046079841  5100505060838687527  2097828104877643350           \n",
      "1  81465703213  7595295926917893421  3442201103375110717       A   \n",
      "2  58695342240  1762048877978329900  4818239517605922667           \n",
      "3  78857172116  9117145463574074166  1626022023864896110           \n",
      "4  80101594884  4890295503896255487  1801738842007609011           \n",
      "\n",
      "              DT_CARGA  \n",
      "0  2024-09-11 15:17:40  \n",
      "1  2024-09-11 15:17:40  \n",
      "2  2024-09-11 15:17:40  \n",
      "3  2024-09-11 15:17:40  \n",
      "4  2024-09-11 15:17:40  \n"
     ]
    }
   ],
   "source": [
    "# Lendo aqreuivo parquet 2.\n",
    "file_path = 'output/ranking_clientes.parquet-00000-of-00001.parquet'\n",
    "dfp2 = pd.read_parquet(file_path)\n",
    "print(dfp2.head())\n"
   ]
  }
 ],
 "metadata": {
  "kernelspec": {
   "display_name": "Python 3",
   "language": "python",
   "name": "python3"
  },
  "language_info": {
   "codemirror_mode": {
    "name": "ipython",
    "version": 3
   },
   "file_extension": ".py",
   "mimetype": "text/x-python",
   "name": "python",
   "nbconvert_exporter": "python",
   "pygments_lexer": "ipython3",
   "version": "3.12.6"
  }
 },
 "nbformat": 4,
 "nbformat_minor": 2
}
