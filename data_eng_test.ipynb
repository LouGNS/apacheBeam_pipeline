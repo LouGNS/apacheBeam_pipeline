{
 "cells": [
  {
   "cell_type": "markdown",
   "metadata": {},
   "source": [
    "# Teste de engenharia de dados Banco ABC\n",
    "Este notebook apresenta um exemplo de como transformar seus dados armazenados \"in-memory\" em tabelas no SQLite, permitindo a manipulação através de querys SQL. Caso ainda tenha dúvidas, você pode utilizar tutoriais [como esse](https://deepnote.com/blog/query-pandas-dataframes-with-sql) para ver mais detalhes. Esse snippet foi testado utilizando o Python 3.10.\n",
    "\n",
    "O primeiro passo é importar as bibliotecas necessárias. Caso você não as tenha instalada na máquina, será necessário realizar isso antes."
   ]
  },
  {
   "cell_type": "code",
   "execution_count": 106,
   "metadata": {},
   "outputs": [
    {
     "name": "stdout",
     "output_type": "stream",
     "text": [
      "The sql extension is already loaded. To reload it, use:\n",
      "  %reload_ext sql\n"
     ]
    }
   ],
   "source": [
    "import pandas as pd\n",
    "import sqlalchemy\n",
    "%load_ext sql"
   ]
  },
  {
   "cell_type": "markdown",
   "metadata": {},
   "source": [
    "Feito isso, você deve fazer a leitura das bases de dados para a memória. O exemplo abaixo é um pseudocódigo."
   ]
  },
  {
   "cell_type": "code",
   "execution_count": 125,
   "metadata": {},
   "outputs": [],
   "source": [
    "clients = pd.read_csv('data/clientes.csv')"
   ]
  },
  {
   "cell_type": "markdown",
   "metadata": {},
   "source": [
    "Depois, você irá inicializar a SQLite através do código abaixo:"
   ]
  },
  {
   "cell_type": "code",
   "execution_count": 108,
   "metadata": {},
   "outputs": [],
   "source": [
    "engine = sqlalchemy.create_engine('sqlite:///mydatabase.db')\n",
    "%sql sqlite:///mydatabase.db"
   ]
  },
  {
   "cell_type": "markdown",
   "metadata": {},
   "source": [
    "Agora, basta transformar seus dados em tabelas efetivamente. É possível que você se depare com o seguinte erro: **ValueError: Unsigned 64 bit integer datatype is not supported**. Isso ocorre por que o SQLite não oferece suporte para o tipo **uint64**. Nesse caso, você deve tentar converter as colunas do seu dataset que estão em uint64 para string. As colunas que recebem esse tipo geralmente são *numeroCartao* e *numeroConta*."
   ]
  },
  {
   "cell_type": "code",
   "execution_count": 109,
   "metadata": {},
   "outputs": [
    {
     "data": {
      "text/plain": [
       "250000"
      ]
     },
     "execution_count": 109,
     "metadata": {},
     "output_type": "execute_result"
    }
   ],
   "source": [
    "clients.to_sql('clientes', con=engine, if_exists='replace')"
   ]
  },
  {
   "cell_type": "markdown",
   "metadata": {},
   "source": [
    "Finalmente, você deve ser capaz de executar querys utilizando a seguinte syntax:"
   ]
  },
  {
   "cell_type": "code",
   "execution_count": 110,
   "metadata": {},
   "outputs": [
    {
     "name": "stdout",
     "output_type": "stream",
     "text": [
      " * sqlite:///mydatabase.db\n",
      "Done.\n"
     ]
    }
   ],
   "source": [
    "query = %sql \"\"\" SELECT * \\\n",
    "                 FROM clientes limit 10\"\"\""
   ]
  },
  {
   "cell_type": "code",
   "execution_count": 22,
   "metadata": {},
   "outputs": [
    {
     "name": "stdout",
     "output_type": "stream",
     "text": [
      "+-------+-------------+------------------------+----------------+-----------------------------+------------------+--------------+\n",
      "| index |     cpf     |          nome          | dataNascimento |            email            |       city       | dataCadastro |\n",
      "+-------+-------------+------------------------+----------------+-----------------------------+------------------+--------------+\n",
      "|   0   | 18046079841 |     Beatriz Porto      |   1988-01-13   |     ocorreia@cardoso.org    |     Ferreira     |  2012-06-05  |\n",
      "|   1   | 81465703213 |  Luiz Miguel Carvalho  |   1996-10-02   |    theoviana@hotmail.com    |   Dias Grande    |  2011-11-27  |\n",
      "|   2   | 58695342240 |      Calebe Sales      |   2003-09-28   |   luiz-otavioda-cruz@da.br  |   Costa Grande   |  2020-01-23  |\n",
      "|   3   | 78857172116 |  Srta. Bárbara Duarte  |   1968-11-19   | silveiraisadora@martins.com | Ferreira de Melo |  2021-07-09  |\n",
      "|   4   | 80101594884 |  Francisco Nascimento  |   1988-08-08   |      bda-luz@gmail.com      |       Dias       |  2015-10-25  |\n",
      "|   5   | 12215420147 |      Laura da Luz      |   1991-03-17   |      yasmin37@gmail.com     |   Cunha Grande   |  2023-01-23  |\n",
      "|   6   | 35010549464 |  Ana Carolina Freitas  |   1955-10-04   |  danielda-mota@yahoo.com.br | Porto das Flores |  2019-06-03  |\n",
      "|   7   | 70452017421 | Maria Fernanda Pereira |   1972-06-10   |    lunafogaca@hotmail.com   |      Aragão      |  2008-09-17  |\n",
      "|   8   | 31815402513 |     Bryan da Rocha     |   2003-05-09   |      ssales@uol.com.br      |      Nunes       |  2015-11-27  |\n",
      "|   9   | 14897402109 |     Renan Silveira     |   2001-03-29   |       nicole06@da.org       |      Mendes      |  2011-09-03  |\n",
      "+-------+-------------+------------------------+----------------+-----------------------------+------------------+--------------+\n"
     ]
    }
   ],
   "source": [
    "print(query)"
   ]
  },
  {
   "cell_type": "markdown",
   "metadata": {},
   "source": [
    "## Primeira fase - Query 1\n",
    "Extraia o nome, CPF e e-mail de todos os clientes que tenham ao menos R$ 400,00 reais de compras aprovadas nos últimos dois meses. Além disso, esses clientes precisam estar com a conta ativa e com o cartão desbloqueado, a menos que o código de bloqueio do cartão seja igual a “M”. "
   ]
  },
  {
   "cell_type": "code",
   "execution_count": 111,
   "metadata": {},
   "outputs": [],
   "source": [
    "# Tentar diferentes codificações\n",
    "try:\n",
    "    transactions = pd.read_csv('data/transacoes.csv', encoding='utf-8')\n",
    "except UnicodeDecodeError:\n",
    "    transactions = pd.read_csv('data/transacoes.csv', encoding='latin1')"
   ]
  },
  {
   "cell_type": "code",
   "execution_count": 112,
   "metadata": {},
   "outputs": [],
   "source": [
    "# Carregar os DataFrames com o formato correto\n",
    "accounts = pd.read_csv('data/contas.csv', delimiter=';')\n",
    "cards = pd.read_excel('data/cartoes.xlsx')  # Ler o arquivo Excel\n",
    "#transactions = pd.read_csv('data/transacoes.csv', delimiter=';')"
   ]
  },
  {
   "cell_type": "code",
   "execution_count": 113,
   "metadata": {},
   "outputs": [],
   "source": [
    "# Converter colunas uint64 para int64\n",
    "accounts['numeroConta'] = accounts['numeroConta'].astype('int64')\n",
    "cards['numeroCartao'] = cards['numeroCartao'].astype('int64')\n",
    "transactions['numeroCartao'] = transactions['numeroCartao'].astype('int64')"
   ]
  },
  {
   "cell_type": "code",
   "execution_count": 114,
   "metadata": {},
   "outputs": [
    {
     "name": "stdout",
     "output_type": "stream",
     "text": [
      "Tipos de dados em accounts: codMatricula    object\n",
      "cpfCliente       int64\n",
      "numeroConta      int64\n",
      "agencia          int64\n",
      "dataAbertura    object\n",
      "ativo            int64\n",
      "saldo            int64\n",
      "dtype: object\n",
      "Tipos de dados em cards: codMatricula                 object\n",
      "numeroCartao                  int64\n",
      "cartaoBloqueado                bool\n",
      "codBloqueio                  object\n",
      "nomeImprCart                 object\n",
      "digitoVerificador             int64\n",
      "dataEmisCartao       datetime64[ns]\n",
      "limiteTotal                 float64\n",
      "limiteRestante              float64\n",
      "dtype: object\n",
      "Tipos de dados em transactions: numeroCartao      int64\n",
      "dataCompra       object\n",
      "aprovado          int64\n",
      "idLoja            int64\n",
      "qtdParcelas       int64\n",
      "valorCompra     float64\n",
      "nomeLoja         object\n",
      "dtype: object\n"
     ]
    }
   ],
   "source": [
    "# Verificar os tipos de dados das colunas\n",
    "print(\"Tipos de dados em accounts:\", accounts.dtypes)\n",
    "print(\"Tipos de dados em cards:\", cards.dtypes)\n",
    "print(\"Tipos de dados em transactions:\", transactions.dtypes)\n"
   ]
  },
  {
   "cell_type": "code",
   "execution_count": 115,
   "metadata": {},
   "outputs": [
    {
     "data": {
      "text/plain": [
       "1250000"
      ]
     },
     "execution_count": 115,
     "metadata": {},
     "output_type": "execute_result"
    }
   ],
   "source": [
    "# Inserir DataFrames no banco de dados\n",
    "accounts.to_sql('contas', con=engine, if_exists='replace', index=False)\n",
    "cards.to_sql('cartoes', con=engine, if_exists='replace', index=False)\n",
    "transactions.to_sql('transacoes', con=engine, if_exists='replace', index=False)"
   ]
  },
  {
   "cell_type": "code",
   "execution_count": 116,
   "metadata": {},
   "outputs": [
    {
     "name": "stdout",
     "output_type": "stream",
     "text": [
      " * sqlite:///mydatabase.db\n",
      "Done.\n",
      " * sqlite:///mydatabase.db\n",
      "Done.\n"
     ]
    }
   ],
   "source": [
    "# Obter a data mais recente de dataCompra\n",
    "query_data_recente = %sql SELECT MAX(dataCompra) AS dataRecente FROM transacoes;\n",
    "\n",
    "# Obter a data subtraída de dois meses\n",
    "query_data_subtrair_dois_meses = %sql SELECT DATE(MAX(dataCompra), '-2 months') AS dataMenosDoisMeses FROM transacoes;"
   ]
  },
  {
   "cell_type": "code",
   "execution_count": 117,
   "metadata": {},
   "outputs": [
    {
     "name": "stdout",
     "output_type": "stream",
     "text": [
      "A data de compra mais recente da base é: +-------------+\n",
      "| dataRecente |\n",
      "+-------------+\n",
      "|  2024-02-21 |\n",
      "+-------------+\n",
      "\n",
      "A data de compra de dois meses para trás é: +--------------------+\n",
      "| dataMenosDoisMeses |\n",
      "+--------------------+\n",
      "|     2023-12-21     |\n",
      "+--------------------+\n"
     ]
    }
   ],
   "source": [
    "print(f'A data de compra mais recente da base é: {query_data_recente}')\n",
    "print('')\n",
    "print(f'A data de compra de dois meses para trás é: {query_data_subtrair_dois_meses}')"
   ]
  },
  {
   "cell_type": "code",
   "execution_count": 129,
   "metadata": {},
   "outputs": [
    {
     "name": "stdout",
     "output_type": "stream",
     "text": [
      " * sqlite:///mydatabase.db\n",
      "Done.\n",
      "+--------------------+-------------+--------------------------+\n",
      "|        nome        |     cpf     |          email           |\n",
      "+--------------------+-------------+--------------------------+\n",
      "|    Agatha Gomes    | 47030856073 |  larissa95@yahoo.com.br  |\n",
      "| Agatha Nascimento  | 53686156562 | fogacaraquel@silveira.br |\n",
      "|    Agatha Nunes    | 36537807266 |     gmelo@freitas.br     |\n",
      "|  Agatha Oliveira   | 65631925523 |    yasmin76@barros.br    |\n",
      "|   Agatha Ribeiro   | 71612587231 |  matheus75@monteiro.org  |\n",
      "|    Alana Farias    | 49928102324 |   wmartins@aragao.com    |\n",
      "|   Alana Martins    | 92950456450 |   ybarros@hotmail.com    |\n",
      "|   Alana Monteiro   | 45154499126 |   catarina06@ig.com.br   |\n",
      "|    Alana Viana     | 87403196818 |   mariana74@uol.com.br   |\n",
      "| Alana da Conceição | 11433350236 |  cunhagiovanna@alves.br  |\n",
      "+--------------------+-------------+--------------------------+\n"
     ]
    }
   ],
   "source": [
    "query_1 = %sql SELECT clientes.nome, clientes.cpf, clientes.email FROM clientes JOIN contas ON clientes.cpf = contas.cpfCliente JOIN cartoes ON contas.codMatricula = cartoes.codMatricula JOIN transacoes ON cartoes.numeroCartao = transacoes.numeroCartao WHERE contas.ativo = 1 AND (cartoes.cartaoBloqueado = 0 OR cartoes.codBloqueio = 'M') AND transacoes.aprovado = 1 AND transacoes.dataCompra BETWEEN '2024-02-21' AND '2024-12-21' GROUP BY clientes.nome, clientes.cpf, clientes.email HAVING SUM(transacoes.valorCompra) >= 400 limit 10;\n",
    "print(query_1)"
   ]
  },
  {
   "cell_type": "code",
   "execution_count": 123,
   "metadata": {},
   "outputs": [
    {
     "name": "stdout",
     "output_type": "stream",
     "text": [
      " * sqlite:///mydatabase.db\n",
      "Done.\n",
      "+------------------------+-------------+-----------------------------+\n",
      "|          nome          |     cpf     |            email            |\n",
      "+------------------------+-------------+-----------------------------+\n",
      "|     Beatriz Porto      | 18046079841 |     ocorreia@cardoso.org    |\n",
      "|  Luiz Miguel Carvalho  | 81465703213 |    theoviana@hotmail.com    |\n",
      "|      Calebe Sales      | 58695342240 |   luiz-otavioda-cruz@da.br  |\n",
      "|  Srta. Bárbara Duarte  | 78857172116 | silveiraisadora@martins.com |\n",
      "|  Francisco Nascimento  | 80101594884 |      bda-luz@gmail.com      |\n",
      "|      Laura da Luz      | 12215420147 |      yasmin37@gmail.com     |\n",
      "|  Ana Carolina Freitas  | 35010549464 |  danielda-mota@yahoo.com.br |\n",
      "| Maria Fernanda Pereira | 70452017421 |    lunafogaca@hotmail.com   |\n",
      "|     Bryan da Rocha     | 31815402513 |      ssales@uol.com.br      |\n",
      "|     Renan Silveira     | 14897402109 |       nicole06@da.org       |\n",
      "+------------------------+-------------+-----------------------------+\n"
     ]
    }
   ],
   "source": [
    "#Testes de consulta realizados\n",
    "teste = %sql SELECT clientes.nome, clientes.cpf, clientes.email FROM clientes LIMIT 10\n",
    "print(teste)"
   ]
  },
  {
   "cell_type": "code",
   "execution_count": 127,
   "metadata": {},
   "outputs": [],
   "source": [
    "# Definindo a consulta SQL\n",
    "query_1 = \"\"\"\n",
    "SELECT clientes.nome, clientes.cpf, clientes.email \n",
    "FROM clientes \n",
    "JOIN contas ON clientes.cpf = contas.cpfCliente \n",
    "JOIN cartoes ON contas.codMatricula = cartoes.codMatricula \n",
    "JOIN transacoes ON cartoes.numeroCartao = transacoes.numeroCartao \n",
    "WHERE contas.ativo = 1 \n",
    "AND (cartoes.cartaoBloqueado = 0 OR cartoes.codBloqueio = 'M') \n",
    "AND transacoes.aprovado = 1 \n",
    "AND transacoes.dataCompra BETWEEN '2024-02-21' AND '2024-12-21' \n",
    "GROUP BY clientes.nome, clientes.cpf, clientes.email \n",
    "HAVING SUM(transacoes.valorCompra) >= 400;\n",
    "\"\"\""
   ]
  },
  {
   "cell_type": "code",
   "execution_count": 128,
   "metadata": {},
   "outputs": [],
   "source": [
    "# Executando a consulta e carregando o resultado em um DataFrame\n",
    "df1 = pd.read_sql(query_1, engine)\n",
    "\n",
    "# Slavando o DataFrame em um arquivo CSV\n",
    "df1.to_csv('resultado_query.csv', index=False)"
   ]
  }
 ],
 "metadata": {
  "kernelspec": {
   "display_name": "Python 3",
   "language": "python",
   "name": "python3"
  },
  "language_info": {
   "codemirror_mode": {
    "name": "ipython",
    "version": 3
   },
   "file_extension": ".py",
   "mimetype": "text/x-python",
   "name": "python",
   "nbconvert_exporter": "python",
   "pygments_lexer": "ipython3",
   "version": "3.10.11"
  }
 },
 "nbformat": 4,
 "nbformat_minor": 2
}
